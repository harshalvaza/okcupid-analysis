{
 "cells": [
  {
   "cell_type": "code",
   "execution_count": 33,
   "metadata": {},
   "outputs": [
    {
     "data": {
      "text/html": [
       "<div>\n",
       "<style scoped>\n",
       "    .dataframe tbody tr th:only-of-type {\n",
       "        vertical-align: middle;\n",
       "    }\n",
       "\n",
       "    .dataframe tbody tr th {\n",
       "        vertical-align: top;\n",
       "    }\n",
       "\n",
       "    .dataframe thead th {\n",
       "        text-align: right;\n",
       "    }\n",
       "</style>\n",
       "<table border=\"1\" class=\"dataframe\">\n",
       "  <thead>\n",
       "    <tr style=\"text-align: right;\">\n",
       "      <th></th>\n",
       "      <th>age</th>\n",
       "      <th>sex</th>\n",
       "      <th>height</th>\n",
       "      <th>new_status</th>\n",
       "      <th>new_diet</th>\n",
       "      <th>new_drinks</th>\n",
       "      <th>new_drugs</th>\n",
       "      <th>new_education</th>\n",
       "      <th>new_ethnicity</th>\n",
       "      <th>new_job</th>\n",
       "      <th>pets</th>\n",
       "      <th>new_smokes</th>\n",
       "      <th>new_offspring</th>\n",
       "      <th>inc</th>\n",
       "      <th>new_body_type</th>\n",
       "    </tr>\n",
       "  </thead>\n",
       "  <tbody>\n",
       "    <tr>\n",
       "      <th>0</th>\n",
       "      <td>22</td>\n",
       "      <td>m</td>\n",
       "      <td>75</td>\n",
       "      <td>single</td>\n",
       "      <td>anything</td>\n",
       "      <td>yes</td>\n",
       "      <td>no</td>\n",
       "      <td>studying</td>\n",
       "      <td>asian</td>\n",
       "      <td>business management/development</td>\n",
       "      <td>likes dogs and likes cats</td>\n",
       "      <td>yes</td>\n",
       "      <td>no kids but want them</td>\n",
       "      <td>60000</td>\n",
       "      <td>overweight</td>\n",
       "    </tr>\n",
       "    <tr>\n",
       "      <th>1</th>\n",
       "      <td>35</td>\n",
       "      <td>m</td>\n",
       "      <td>70</td>\n",
       "      <td>single</td>\n",
       "      <td>anything</td>\n",
       "      <td>yes</td>\n",
       "      <td>yes</td>\n",
       "      <td>studying</td>\n",
       "      <td>white</td>\n",
       "      <td>business management/development</td>\n",
       "      <td>likes dogs and likes cats</td>\n",
       "      <td>no</td>\n",
       "      <td>no kids but want them</td>\n",
       "      <td>60000</td>\n",
       "      <td>overweight</td>\n",
       "    </tr>\n",
       "    <tr>\n",
       "      <th>2</th>\n",
       "      <td>38</td>\n",
       "      <td>m</td>\n",
       "      <td>68</td>\n",
       "      <td>single</td>\n",
       "      <td>anything</td>\n",
       "      <td>yes</td>\n",
       "      <td>no</td>\n",
       "      <td>graduated</td>\n",
       "      <td>white</td>\n",
       "      <td>business management/development</td>\n",
       "      <td>has cats</td>\n",
       "      <td>no</td>\n",
       "      <td>no kids</td>\n",
       "      <td>60000</td>\n",
       "      <td>thin</td>\n",
       "    </tr>\n",
       "    <tr>\n",
       "      <th>3</th>\n",
       "      <td>23</td>\n",
       "      <td>m</td>\n",
       "      <td>71</td>\n",
       "      <td>single</td>\n",
       "      <td>vegetarian</td>\n",
       "      <td>yes</td>\n",
       "      <td>no</td>\n",
       "      <td>studying</td>\n",
       "      <td>white</td>\n",
       "      <td>unemployed</td>\n",
       "      <td>likes cats</td>\n",
       "      <td>no</td>\n",
       "      <td>no kids</td>\n",
       "      <td>60000</td>\n",
       "      <td>thin</td>\n",
       "    </tr>\n",
       "    <tr>\n",
       "      <th>4</th>\n",
       "      <td>29</td>\n",
       "      <td>m</td>\n",
       "      <td>66</td>\n",
       "      <td>single</td>\n",
       "      <td>anything</td>\n",
       "      <td>yes</td>\n",
       "      <td>no</td>\n",
       "      <td>graduated</td>\n",
       "      <td>asian</td>\n",
       "      <td>entertainment</td>\n",
       "      <td>likes dogs and likes cats</td>\n",
       "      <td>no</td>\n",
       "      <td>no kids</td>\n",
       "      <td>60000</td>\n",
       "      <td>fit</td>\n",
       "    </tr>\n",
       "  </tbody>\n",
       "</table>\n",
       "</div>"
      ],
      "text/plain": [
       "   age sex  height new_status    new_diet new_drinks new_drugs new_education  \\\n",
       "0   22   m      75     single    anything        yes        no      studying   \n",
       "1   35   m      70     single    anything        yes       yes      studying   \n",
       "2   38   m      68     single    anything        yes        no     graduated   \n",
       "3   23   m      71     single  vegetarian        yes        no      studying   \n",
       "4   29   m      66     single    anything        yes        no     graduated   \n",
       "\n",
       "  new_ethnicity                          new_job                       pets  \\\n",
       "0         asian  business management/development  likes dogs and likes cats   \n",
       "1         white  business management/development  likes dogs and likes cats   \n",
       "2         white  business management/development                   has cats   \n",
       "3         white                       unemployed                 likes cats   \n",
       "4         asian                    entertainment  likes dogs and likes cats   \n",
       "\n",
       "  new_smokes          new_offspring    inc new_body_type  \n",
       "0        yes  no kids but want them  60000    overweight  \n",
       "1         no  no kids but want them  60000    overweight  \n",
       "2         no                no kids  60000          thin  \n",
       "3         no                no kids  60000          thin  \n",
       "4         no                no kids  60000           fit  "
      ]
     },
     "execution_count": 33,
     "metadata": {},
     "output_type": "execute_result"
    }
   ],
   "source": [
    "import pandas as pd\n",
    "import numpy as np\n",
    "import seaborn as sns\n",
    "import matplotlib.pyplot as plt\n",
    "%matplotlib inline\n",
    "dataProf = pd.read_csv(\"/Users/harshalvaza/Desktop/273/data_rf.csv\")\n",
    "dataProf.head()"
   ]
  },
  {
   "cell_type": "code",
   "execution_count": 22,
   "metadata": {},
   "outputs": [
    {
     "data": {
      "image/png": "[encoded data removed]",
      "text/plain": [
       "<Figure size 648x360 with 1 Axes>"
      ]
     },
     "metadata": {
      "needs_background": "light"
     },
     "output_type": "display_data"
    }
   ],
   "source": [
    "#Body type breakdown by gender\n",
    "plt.figure(figsize=(9, 5))\n",
    "\n",
    "ax = sns.countplot(x='new_body_type', data=dataProf, \n",
    "                   hue='sex', \n",
    "                   palette='mako',\n",
    "                   order=dataProf['new_body_type'].value_counts().iloc[:10].index)\n",
    "ax.set_title(\"Body type by gender\")\n",
    "ax.set(xlabel='Count', ylabel='Body Type') \n",
    "plt.show()"
   ]
  },
  {
   "cell_type": "code",
   "execution_count": 28,
   "metadata": {},
   "outputs": [
    {
     "data": {
      "text/plain": [
       "<Figure size 1080x504 with 0 Axes>"
      ]
     },
     "metadata": {},
     "output_type": "display_data"
    },
    {
     "data": {
      "image/png": "[encoded data removed]",
      "text/plain": [
       "<Figure size 765.625x360 with 1 Axes>"
      ]
     },
     "metadata": {
      "needs_background": "light"
     },
     "output_type": "display_data"
    }
   ],
   "source": [
    "#Age distribution of males and females\n",
    "plt.figure(figsize=(15, 7))\n",
    "sns.catplot(x='age', data = dataProf, kind='count', palette='muted', hue='sex', \n",
    "            height=5, # make the plot 5 units high\n",
    "            aspect=2)\n",
    "plt.xticks(rotation = 25)\n",
    "plt.title('Age distribution')\n",
    "plt.show()"
   ]
  },
  {
   "cell_type": "code",
   "execution_count": 36,
   "metadata": {},
   "outputs": [
    {
     "data": {
      "image/png": "[encoded data removed]",
      "text/plain": [
       "<Figure size 648x360 with 1 Axes>"
      ]
     },
     "metadata": {
      "needs_background": "light"
     },
     "output_type": "display_data"
    }
   ],
   "source": [
    "plt.figure(figsize=(9, 5))\n",
    "sns.countplot(y='new_job', data=dataProf, \n",
    "              hue='sex', palette='Reds',\n",
    "              order = dataProf['new_job'].value_counts().iloc[:10].index)\n",
    "plt.show()"
   ]
  },
  {
   "cell_type": "code",
   "execution_count": null,
   "metadata": {},
   "outputs": [],
   "source": []
  }
 ],
 "metadata": {
  "kernelspec": {
   "display_name": "Python 3",
   "language": "python",
   "name": "python3"
  },
  "language_info": {
   "codemirror_mode": {
    "name": "ipython",
    "version": 3
   },
   "file_extension": ".py",
   "mimetype": "text/x-python",
   "name": "python",
   "nbconvert_exporter": "python",
   "pygments_lexer": "ipython3",
   "version": "3.8.3"
  }
 },
 "nbformat": 4,
 "nbformat_minor": 4
}
